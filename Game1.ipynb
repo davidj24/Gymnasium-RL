{
  "nbformat": 4,
  "nbformat_minor": 0,
  "metadata": {
    "colab": {
      "provenance": [],
      "toc_visible": true,
      "authorship_tag": "ABX9TyPQcTmj5snRPjqFFBRQsuPa",
      "include_colab_link": true
    },
    "kernelspec": {
      "name": "python3",
      "display_name": "Python 3"
    },
    "language_info": {
      "name": "python"
    }
  },
  "cells": [
    {
      "cell_type": "markdown",
      "metadata": {
        "id": "view-in-github",
        "colab_type": "text"
      },
      "source": [
        "<a href=\"https://colab.research.google.com/github/davidj24/Gymnasium-RL/blob/main/Game1.ipynb\" target=\"_parent\"><img src=\"https://colab.research.google.com/assets/colab-badge.svg\" alt=\"Open In Colab\"/></a>"
      ]
    },
    {
      "cell_type": "code",
      "source": [
        "import gymnasium as gym\n",
        "\n",
        "env = gym.make('CartPole-v1', render_mode='human')\n",
        "obs, info = env.reset()\n",
        "\n",
        "print(\"Initial State: \", obs)"
      ],
      "metadata": {
        "id": "YeuCDsnK2MDE",
        "outputId": "56e95054-cb65-4ddf-ef50-12875a57713b",
        "colab": {
          "base_uri": "https://localhost:8080/"
        }
      },
      "execution_count": 18,
      "outputs": [
        {
          "output_type": "stream",
          "name": "stdout",
          "text": [
            "Initial State:  [-0.04444788 -0.00508831  0.04098244 -0.0028249 ]\n"
          ]
        }
      ]
    },
    {
      "cell_type": "code",
      "source": [
        "import gymnasium as gym\n",
        "from gymnasium.wrappers import RecordVideo\n",
        "\n",
        "# Wrap the environment with video recording\n",
        "env = RecordVideo(gym.make('CartPole-v1', render_mode='rgb_array'), video_folder='./videos')\n",
        "\n",
        "obs, info = env.reset()\n",
        "for _ in range(100000):\n",
        "    action = env.action_space.sample()\n",
        "    obs, reward, done, truncated, info = env.step(action)\n",
        "    if done or truncated:\n",
        "        obs, info = env.reset()\n",
        "env.close()"
      ],
      "metadata": {
        "id": "AC4TP73z2jg5",
        "outputId": "762c906a-7114-464d-a784-f18099f89389",
        "colab": {
          "base_uri": "https://localhost:8080/"
        }
      },
      "execution_count": 25,
      "outputs": [
        {
          "output_type": "stream",
          "name": "stderr",
          "text": [
            "/usr/local/lib/python3.11/dist-packages/gymnasium/wrappers/rendering.py:283: UserWarning: \u001b[33mWARN: Overwriting existing videos at /content/Gymnasium-RL/videos folder (try specifying a different `video_folder` for the `RecordVideo` wrapper if this is not desired)\u001b[0m\n",
            "  logger.warn(\n"
          ]
        }
      ]
    },
    {
      "cell_type": "code",
      "source": [],
      "metadata": {
        "id": "l1SO5QAs3lCw"
      },
      "execution_count": null,
      "outputs": []
    }
  ]
}